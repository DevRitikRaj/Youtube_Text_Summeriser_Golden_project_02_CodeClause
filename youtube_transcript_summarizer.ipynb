{
  "nbformat": 4,
  "nbformat_minor": 0,
  "metadata": {
    "colab": {
      "provenance": [],
      "authorship_tag": "ABX9TyNpynTQM2CXt95t3KGtEPR8",
      "include_colab_link": true
    },
    "kernelspec": {
      "name": "python3",
      "display_name": "Python 3"
    },
    "language_info": {
      "name": "python"
    },
    "widgets": {
      "application/vnd.jupyter.widget-state+json": {
        "cdae178094604089887203138ec97c54": {
          "model_module": "@jupyter-widgets/controls",
          "model_name": "HBoxModel",
          "model_module_version": "1.5.0",
          "state": {
            "_dom_classes": [],
            "_model_module": "@jupyter-widgets/controls",
            "_model_module_version": "1.5.0",
            "_model_name": "HBoxModel",
            "_view_count": null,
            "_view_module": "@jupyter-widgets/controls",
            "_view_module_version": "1.5.0",
            "_view_name": "HBoxView",
            "box_style": "",
            "children": [
              "IPY_MODEL_f7652bae44b6490992d5df579dad31ab",
              "IPY_MODEL_b783e774bf1040c392e4229616de4885",
              "IPY_MODEL_617fbe996f654cd3837c95fcc468ff21"
            ],
            "layout": "IPY_MODEL_310461c2c9f84b9d895522c2efa0fe82"
          }
        },
        "f7652bae44b6490992d5df579dad31ab": {
          "model_module": "@jupyter-widgets/controls",
          "model_name": "HTMLModel",
          "model_module_version": "1.5.0",
          "state": {
            "_dom_classes": [],
            "_model_module": "@jupyter-widgets/controls",
            "_model_module_version": "1.5.0",
            "_model_name": "HTMLModel",
            "_view_count": null,
            "_view_module": "@jupyter-widgets/controls",
            "_view_module_version": "1.5.0",
            "_view_name": "HTMLView",
            "description": "",
            "description_tooltip": null,
            "layout": "IPY_MODEL_afbad5e257be47489752424a393ff469",
            "placeholder": "​",
            "style": "IPY_MODEL_772ee1f878934a099c02189ecb535b5e",
            "value": "Downloading (…)lve/main/config.json: 100%"
          }
        },
        "b783e774bf1040c392e4229616de4885": {
          "model_module": "@jupyter-widgets/controls",
          "model_name": "FloatProgressModel",
          "model_module_version": "1.5.0",
          "state": {
            "_dom_classes": [],
            "_model_module": "@jupyter-widgets/controls",
            "_model_module_version": "1.5.0",
            "_model_name": "FloatProgressModel",
            "_view_count": null,
            "_view_module": "@jupyter-widgets/controls",
            "_view_module_version": "1.5.0",
            "_view_name": "ProgressView",
            "bar_style": "success",
            "description": "",
            "description_tooltip": null,
            "layout": "IPY_MODEL_37c12368619a4ffe90580bc0b5539910",
            "max": 1802,
            "min": 0,
            "orientation": "horizontal",
            "style": "IPY_MODEL_4bd50384648f4e319006f32f489a563d",
            "value": 1802
          }
        },
        "617fbe996f654cd3837c95fcc468ff21": {
          "model_module": "@jupyter-widgets/controls",
          "model_name": "HTMLModel",
          "model_module_version": "1.5.0",
          "state": {
            "_dom_classes": [],
            "_model_module": "@jupyter-widgets/controls",
            "_model_module_version": "1.5.0",
            "_model_name": "HTMLModel",
            "_view_count": null,
            "_view_module": "@jupyter-widgets/controls",
            "_view_module_version": "1.5.0",
            "_view_name": "HTMLView",
            "description": "",
            "description_tooltip": null,
            "layout": "IPY_MODEL_5a77dcc435c6465d93486b47fb40e5b0",
            "placeholder": "​",
            "style": "IPY_MODEL_196b91e9a7a24237a6050152ad8a26a3",
            "value": " 1.80k/1.80k [00:00&lt;00:00, 93.4kB/s]"
          }
        },
        "310461c2c9f84b9d895522c2efa0fe82": {
          "model_module": "@jupyter-widgets/base",
          "model_name": "LayoutModel",
          "model_module_version": "1.2.0",
          "state": {
            "_model_module": "@jupyter-widgets/base",
            "_model_module_version": "1.2.0",
            "_model_name": "LayoutModel",
            "_view_count": null,
            "_view_module": "@jupyter-widgets/base",
            "_view_module_version": "1.2.0",
            "_view_name": "LayoutView",
            "align_content": null,
            "align_items": null,
            "align_self": null,
            "border": null,
            "bottom": null,
            "display": null,
            "flex": null,
            "flex_flow": null,
            "grid_area": null,
            "grid_auto_columns": null,
            "grid_auto_flow": null,
            "grid_auto_rows": null,
            "grid_column": null,
            "grid_gap": null,
            "grid_row": null,
            "grid_template_areas": null,
            "grid_template_columns": null,
            "grid_template_rows": null,
            "height": null,
            "justify_content": null,
            "justify_items": null,
            "left": null,
            "margin": null,
            "max_height": null,
            "max_width": null,
            "min_height": null,
            "min_width": null,
            "object_fit": null,
            "object_position": null,
            "order": null,
            "overflow": null,
            "overflow_x": null,
            "overflow_y": null,
            "padding": null,
            "right": null,
            "top": null,
            "visibility": null,
            "width": null
          }
        },
        "afbad5e257be47489752424a393ff469": {
          "model_module": "@jupyter-widgets/base",
          "model_name": "LayoutModel",
          "model_module_version": "1.2.0",
          "state": {
            "_model_module": "@jupyter-widgets/base",
            "_model_module_version": "1.2.0",
            "_model_name": "LayoutModel",
            "_view_count": null,
            "_view_module": "@jupyter-widgets/base",
            "_view_module_version": "1.2.0",
            "_view_name": "LayoutView",
            "align_content": null,
            "align_items": null,
            "align_self": null,
            "border": null,
            "bottom": null,
            "display": null,
            "flex": null,
            "flex_flow": null,
            "grid_area": null,
            "grid_auto_columns": null,
            "grid_auto_flow": null,
            "grid_auto_rows": null,
            "grid_column": null,
            "grid_gap": null,
            "grid_row": null,
            "grid_template_areas": null,
            "grid_template_columns": null,
            "grid_template_rows": null,
            "height": null,
            "justify_content": null,
            "justify_items": null,
            "left": null,
            "margin": null,
            "max_height": null,
            "max_width": null,
            "min_height": null,
            "min_width": null,
            "object_fit": null,
            "object_position": null,
            "order": null,
            "overflow": null,
            "overflow_x": null,
            "overflow_y": null,
            "padding": null,
            "right": null,
            "top": null,
            "visibility": null,
            "width": null
          }
        },
        "772ee1f878934a099c02189ecb535b5e": {
          "model_module": "@jupyter-widgets/controls",
          "model_name": "DescriptionStyleModel",
          "model_module_version": "1.5.0",
          "state": {
            "_model_module": "@jupyter-widgets/controls",
            "_model_module_version": "1.5.0",
            "_model_name": "DescriptionStyleModel",
            "_view_count": null,
            "_view_module": "@jupyter-widgets/base",
            "_view_module_version": "1.2.0",
            "_view_name": "StyleView",
            "description_width": ""
          }
        },
        "37c12368619a4ffe90580bc0b5539910": {
          "model_module": "@jupyter-widgets/base",
          "model_name": "LayoutModel",
          "model_module_version": "1.2.0",
          "state": {
            "_model_module": "@jupyter-widgets/base",
            "_model_module_version": "1.2.0",
            "_model_name": "LayoutModel",
            "_view_count": null,
            "_view_module": "@jupyter-widgets/base",
            "_view_module_version": "1.2.0",
            "_view_name": "LayoutView",
            "align_content": null,
            "align_items": null,
            "align_self": null,
            "border": null,
            "bottom": null,
            "display": null,
            "flex": null,
            "flex_flow": null,
            "grid_area": null,
            "grid_auto_columns": null,
            "grid_auto_flow": null,
            "grid_auto_rows": null,
            "grid_column": null,
            "grid_gap": null,
            "grid_row": null,
            "grid_template_areas": null,
            "grid_template_columns": null,
            "grid_template_rows": null,
            "height": null,
            "justify_content": null,
            "justify_items": null,
            "left": null,
            "margin": null,
            "max_height": null,
            "max_width": null,
            "min_height": null,
            "min_width": null,
            "object_fit": null,
            "object_position": null,
            "order": null,
            "overflow": null,
            "overflow_x": null,
            "overflow_y": null,
            "padding": null,
            "right": null,
            "top": null,
            "visibility": null,
            "width": null
          }
        },
        "4bd50384648f4e319006f32f489a563d": {
          "model_module": "@jupyter-widgets/controls",
          "model_name": "ProgressStyleModel",
          "model_module_version": "1.5.0",
          "state": {
            "_model_module": "@jupyter-widgets/controls",
            "_model_module_version": "1.5.0",
            "_model_name": "ProgressStyleModel",
            "_view_count": null,
            "_view_module": "@jupyter-widgets/base",
            "_view_module_version": "1.2.0",
            "_view_name": "StyleView",
            "bar_color": null,
            "description_width": ""
          }
        },
        "5a77dcc435c6465d93486b47fb40e5b0": {
          "model_module": "@jupyter-widgets/base",
          "model_name": "LayoutModel",
          "model_module_version": "1.2.0",
          "state": {
            "_model_module": "@jupyter-widgets/base",
            "_model_module_version": "1.2.0",
            "_model_name": "LayoutModel",
            "_view_count": null,
            "_view_module": "@jupyter-widgets/base",
            "_view_module_version": "1.2.0",
            "_view_name": "LayoutView",
            "align_content": null,
            "align_items": null,
            "align_self": null,
            "border": null,
            "bottom": null,
            "display": null,
            "flex": null,
            "flex_flow": null,
            "grid_area": null,
            "grid_auto_columns": null,
            "grid_auto_flow": null,
            "grid_auto_rows": null,
            "grid_column": null,
            "grid_gap": null,
            "grid_row": null,
            "grid_template_areas": null,
            "grid_template_columns": null,
            "grid_template_rows": null,
            "height": null,
            "justify_content": null,
            "justify_items": null,
            "left": null,
            "margin": null,
            "max_height": null,
            "max_width": null,
            "min_height": null,
            "min_width": null,
            "object_fit": null,
            "object_position": null,
            "order": null,
            "overflow": null,
            "overflow_x": null,
            "overflow_y": null,
            "padding": null,
            "right": null,
            "top": null,
            "visibility": null,
            "width": null
          }
        },
        "196b91e9a7a24237a6050152ad8a26a3": {
          "model_module": "@jupyter-widgets/controls",
          "model_name": "DescriptionStyleModel",
          "model_module_version": "1.5.0",
          "state": {
            "_model_module": "@jupyter-widgets/controls",
            "_model_module_version": "1.5.0",
            "_model_name": "DescriptionStyleModel",
            "_view_count": null,
            "_view_module": "@jupyter-widgets/base",
            "_view_module_version": "1.2.0",
            "_view_name": "StyleView",
            "description_width": ""
          }
        },
        "642c13009ced40feb8064fd6d96324c6": {
          "model_module": "@jupyter-widgets/controls",
          "model_name": "HBoxModel",
          "model_module_version": "1.5.0",
          "state": {
            "_dom_classes": [],
            "_model_module": "@jupyter-widgets/controls",
            "_model_module_version": "1.5.0",
            "_model_name": "HBoxModel",
            "_view_count": null,
            "_view_module": "@jupyter-widgets/controls",
            "_view_module_version": "1.5.0",
            "_view_name": "HBoxView",
            "box_style": "",
            "children": [
              "IPY_MODEL_05f8854b313a4dbc800ddb57097fd8a4",
              "IPY_MODEL_34631ff3ee444973bdac300f7e27fe19",
              "IPY_MODEL_0f495f07359e4c08bca501303c910bf3"
            ],
            "layout": "IPY_MODEL_afe8ffe1cfd54a83b3a7044894722a7b"
          }
        },
        "05f8854b313a4dbc800ddb57097fd8a4": {
          "model_module": "@jupyter-widgets/controls",
          "model_name": "HTMLModel",
          "model_module_version": "1.5.0",
          "state": {
            "_dom_classes": [],
            "_model_module": "@jupyter-widgets/controls",
            "_model_module_version": "1.5.0",
            "_model_name": "HTMLModel",
            "_view_count": null,
            "_view_module": "@jupyter-widgets/controls",
            "_view_module_version": "1.5.0",
            "_view_name": "HTMLView",
            "description": "",
            "description_tooltip": null,
            "layout": "IPY_MODEL_d3f15ba0f7c44fc1aedded230f8ba1bd",
            "placeholder": "​",
            "style": "IPY_MODEL_1bd5ea52b919447c8d8c5732044d0a27",
            "value": "Downloading pytorch_model.bin: 100%"
          }
        },
        "34631ff3ee444973bdac300f7e27fe19": {
          "model_module": "@jupyter-widgets/controls",
          "model_name": "FloatProgressModel",
          "model_module_version": "1.5.0",
          "state": {
            "_dom_classes": [],
            "_model_module": "@jupyter-widgets/controls",
            "_model_module_version": "1.5.0",
            "_model_name": "FloatProgressModel",
            "_view_count": null,
            "_view_module": "@jupyter-widgets/controls",
            "_view_module_version": "1.5.0",
            "_view_name": "ProgressView",
            "bar_style": "success",
            "description": "",
            "description_tooltip": null,
            "layout": "IPY_MODEL_93f2516d50bf4ad382ba38afaba47456",
            "max": 1222317369,
            "min": 0,
            "orientation": "horizontal",
            "style": "IPY_MODEL_7be111d854834367b4b9c424d1d3ece2",
            "value": 1222317369
          }
        },
        "0f495f07359e4c08bca501303c910bf3": {
          "model_module": "@jupyter-widgets/controls",
          "model_name": "HTMLModel",
          "model_module_version": "1.5.0",
          "state": {
            "_dom_classes": [],
            "_model_module": "@jupyter-widgets/controls",
            "_model_module_version": "1.5.0",
            "_model_name": "HTMLModel",
            "_view_count": null,
            "_view_module": "@jupyter-widgets/controls",
            "_view_module_version": "1.5.0",
            "_view_name": "HTMLView",
            "description": "",
            "description_tooltip": null,
            "layout": "IPY_MODEL_658cbe498ba94a19bdb3195ddcc57317",
            "placeholder": "​",
            "style": "IPY_MODEL_a50274045b204d2c9703bcffc75ced7a",
            "value": " 1.22G/1.22G [00:14&lt;00:00, 45.5MB/s]"
          }
        },
        "afe8ffe1cfd54a83b3a7044894722a7b": {
          "model_module": "@jupyter-widgets/base",
          "model_name": "LayoutModel",
          "model_module_version": "1.2.0",
          "state": {
            "_model_module": "@jupyter-widgets/base",
            "_model_module_version": "1.2.0",
            "_model_name": "LayoutModel",
            "_view_count": null,
            "_view_module": "@jupyter-widgets/base",
            "_view_module_version": "1.2.0",
            "_view_name": "LayoutView",
            "align_content": null,
            "align_items": null,
            "align_self": null,
            "border": null,
            "bottom": null,
            "display": null,
            "flex": null,
            "flex_flow": null,
            "grid_area": null,
            "grid_auto_columns": null,
            "grid_auto_flow": null,
            "grid_auto_rows": null,
            "grid_column": null,
            "grid_gap": null,
            "grid_row": null,
            "grid_template_areas": null,
            "grid_template_columns": null,
            "grid_template_rows": null,
            "height": null,
            "justify_content": null,
            "justify_items": null,
            "left": null,
            "margin": null,
            "max_height": null,
            "max_width": null,
            "min_height": null,
            "min_width": null,
            "object_fit": null,
            "object_position": null,
            "order": null,
            "overflow": null,
            "overflow_x": null,
            "overflow_y": null,
            "padding": null,
            "right": null,
            "top": null,
            "visibility": null,
            "width": null
          }
        },
        "d3f15ba0f7c44fc1aedded230f8ba1bd": {
          "model_module": "@jupyter-widgets/base",
          "model_name": "LayoutModel",
          "model_module_version": "1.2.0",
          "state": {
            "_model_module": "@jupyter-widgets/base",
            "_model_module_version": "1.2.0",
            "_model_name": "LayoutModel",
            "_view_count": null,
            "_view_module": "@jupyter-widgets/base",
            "_view_module_version": "1.2.0",
            "_view_name": "LayoutView",
            "align_content": null,
            "align_items": null,
            "align_self": null,
            "border": null,
            "bottom": null,
            "display": null,
            "flex": null,
            "flex_flow": null,
            "grid_area": null,
            "grid_auto_columns": null,
            "grid_auto_flow": null,
            "grid_auto_rows": null,
            "grid_column": null,
            "grid_gap": null,
            "grid_row": null,
            "grid_template_areas": null,
            "grid_template_columns": null,
            "grid_template_rows": null,
            "height": null,
            "justify_content": null,
            "justify_items": null,
            "left": null,
            "margin": null,
            "max_height": null,
            "max_width": null,
            "min_height": null,
            "min_width": null,
            "object_fit": null,
            "object_position": null,
            "order": null,
            "overflow": null,
            "overflow_x": null,
            "overflow_y": null,
            "padding": null,
            "right": null,
            "top": null,
            "visibility": null,
            "width": null
          }
        },
        "1bd5ea52b919447c8d8c5732044d0a27": {
          "model_module": "@jupyter-widgets/controls",
          "model_name": "DescriptionStyleModel",
          "model_module_version": "1.5.0",
          "state": {
            "_model_module": "@jupyter-widgets/controls",
            "_model_module_version": "1.5.0",
            "_model_name": "DescriptionStyleModel",
            "_view_count": null,
            "_view_module": "@jupyter-widgets/base",
            "_view_module_version": "1.2.0",
            "_view_name": "StyleView",
            "description_width": ""
          }
        },
        "93f2516d50bf4ad382ba38afaba47456": {
          "model_module": "@jupyter-widgets/base",
          "model_name": "LayoutModel",
          "model_module_version": "1.2.0",
          "state": {
            "_model_module": "@jupyter-widgets/base",
            "_model_module_version": "1.2.0",
            "_model_name": "LayoutModel",
            "_view_count": null,
            "_view_module": "@jupyter-widgets/base",
            "_view_module_version": "1.2.0",
            "_view_name": "LayoutView",
            "align_content": null,
            "align_items": null,
            "align_self": null,
            "border": null,
            "bottom": null,
            "display": null,
            "flex": null,
            "flex_flow": null,
            "grid_area": null,
            "grid_auto_columns": null,
            "grid_auto_flow": null,
            "grid_auto_rows": null,
            "grid_column": null,
            "grid_gap": null,
            "grid_row": null,
            "grid_template_areas": null,
            "grid_template_columns": null,
            "grid_template_rows": null,
            "height": null,
            "justify_content": null,
            "justify_items": null,
            "left": null,
            "margin": null,
            "max_height": null,
            "max_width": null,
            "min_height": null,
            "min_width": null,
            "object_fit": null,
            "object_position": null,
            "order": null,
            "overflow": null,
            "overflow_x": null,
            "overflow_y": null,
            "padding": null,
            "right": null,
            "top": null,
            "visibility": null,
            "width": null
          }
        },
        "7be111d854834367b4b9c424d1d3ece2": {
          "model_module": "@jupyter-widgets/controls",
          "model_name": "ProgressStyleModel",
          "model_module_version": "1.5.0",
          "state": {
            "_model_module": "@jupyter-widgets/controls",
            "_model_module_version": "1.5.0",
            "_model_name": "ProgressStyleModel",
            "_view_count": null,
            "_view_module": "@jupyter-widgets/base",
            "_view_module_version": "1.2.0",
            "_view_name": "StyleView",
            "bar_color": null,
            "description_width": ""
          }
        },
        "658cbe498ba94a19bdb3195ddcc57317": {
          "model_module": "@jupyter-widgets/base",
          "model_name": "LayoutModel",
          "model_module_version": "1.2.0",
          "state": {
            "_model_module": "@jupyter-widgets/base",
            "_model_module_version": "1.2.0",
            "_model_name": "LayoutModel",
            "_view_count": null,
            "_view_module": "@jupyter-widgets/base",
            "_view_module_version": "1.2.0",
            "_view_name": "LayoutView",
            "align_content": null,
            "align_items": null,
            "align_self": null,
            "border": null,
            "bottom": null,
            "display": null,
            "flex": null,
            "flex_flow": null,
            "grid_area": null,
            "grid_auto_columns": null,
            "grid_auto_flow": null,
            "grid_auto_rows": null,
            "grid_column": null,
            "grid_gap": null,
            "grid_row": null,
            "grid_template_areas": null,
            "grid_template_columns": null,
            "grid_template_rows": null,
            "height": null,
            "justify_content": null,
            "justify_items": null,
            "left": null,
            "margin": null,
            "max_height": null,
            "max_width": null,
            "min_height": null,
            "min_width": null,
            "object_fit": null,
            "object_position": null,
            "order": null,
            "overflow": null,
            "overflow_x": null,
            "overflow_y": null,
            "padding": null,
            "right": null,
            "top": null,
            "visibility": null,
            "width": null
          }
        },
        "a50274045b204d2c9703bcffc75ced7a": {
          "model_module": "@jupyter-widgets/controls",
          "model_name": "DescriptionStyleModel",
          "model_module_version": "1.5.0",
          "state": {
            "_model_module": "@jupyter-widgets/controls",
            "_model_module_version": "1.5.0",
            "_model_name": "DescriptionStyleModel",
            "_view_count": null,
            "_view_module": "@jupyter-widgets/base",
            "_view_module_version": "1.2.0",
            "_view_name": "StyleView",
            "description_width": ""
          }
        },
        "7f1d7824ea764385803da00fd5132123": {
          "model_module": "@jupyter-widgets/controls",
          "model_name": "HBoxModel",
          "model_module_version": "1.5.0",
          "state": {
            "_dom_classes": [],
            "_model_module": "@jupyter-widgets/controls",
            "_model_module_version": "1.5.0",
            "_model_name": "HBoxModel",
            "_view_count": null,
            "_view_module": "@jupyter-widgets/controls",
            "_view_module_version": "1.5.0",
            "_view_name": "HBoxView",
            "box_style": "",
            "children": [
              "IPY_MODEL_bc50d561504b4ae1bd7d36ce89bc180c",
              "IPY_MODEL_fd5a194de6ed430fa7168574b6dfa75a",
              "IPY_MODEL_b67f329e18704870a319c18850856573"
            ],
            "layout": "IPY_MODEL_6e5fd3038c9744a29d4cf23b7bc93b23"
          }
        },
        "bc50d561504b4ae1bd7d36ce89bc180c": {
          "model_module": "@jupyter-widgets/controls",
          "model_name": "HTMLModel",
          "model_module_version": "1.5.0",
          "state": {
            "_dom_classes": [],
            "_model_module": "@jupyter-widgets/controls",
            "_model_module_version": "1.5.0",
            "_model_name": "HTMLModel",
            "_view_count": null,
            "_view_module": "@jupyter-widgets/controls",
            "_view_module_version": "1.5.0",
            "_view_name": "HTMLView",
            "description": "",
            "description_tooltip": null,
            "layout": "IPY_MODEL_fd47327c63ea404b948e0b8c6743e866",
            "placeholder": "​",
            "style": "IPY_MODEL_dcf99f495b3248b19a1cac948137fcdd",
            "value": "Downloading (…)okenizer_config.json: 100%"
          }
        },
        "fd5a194de6ed430fa7168574b6dfa75a": {
          "model_module": "@jupyter-widgets/controls",
          "model_name": "FloatProgressModel",
          "model_module_version": "1.5.0",
          "state": {
            "_dom_classes": [],
            "_model_module": "@jupyter-widgets/controls",
            "_model_module_version": "1.5.0",
            "_model_name": "FloatProgressModel",
            "_view_count": null,
            "_view_module": "@jupyter-widgets/controls",
            "_view_module_version": "1.5.0",
            "_view_name": "ProgressView",
            "bar_style": "success",
            "description": "",
            "description_tooltip": null,
            "layout": "IPY_MODEL_1d13ed06e44943ee82b37a821c7cf7af",
            "max": 26,
            "min": 0,
            "orientation": "horizontal",
            "style": "IPY_MODEL_16b31a5233c54f3287e0ef81da82f489",
            "value": 26
          }
        },
        "b67f329e18704870a319c18850856573": {
          "model_module": "@jupyter-widgets/controls",
          "model_name": "HTMLModel",
          "model_module_version": "1.5.0",
          "state": {
            "_dom_classes": [],
            "_model_module": "@jupyter-widgets/controls",
            "_model_module_version": "1.5.0",
            "_model_name": "HTMLModel",
            "_view_count": null,
            "_view_module": "@jupyter-widgets/controls",
            "_view_module_version": "1.5.0",
            "_view_name": "HTMLView",
            "description": "",
            "description_tooltip": null,
            "layout": "IPY_MODEL_6194b130c62d4dbe897188d82e4fb5a4",
            "placeholder": "​",
            "style": "IPY_MODEL_8c3fa6bf109748839e4e2d282c1c6f6f",
            "value": " 26.0/26.0 [00:00&lt;00:00, 1.58kB/s]"
          }
        },
        "6e5fd3038c9744a29d4cf23b7bc93b23": {
          "model_module": "@jupyter-widgets/base",
          "model_name": "LayoutModel",
          "model_module_version": "1.2.0",
          "state": {
            "_model_module": "@jupyter-widgets/base",
            "_model_module_version": "1.2.0",
            "_model_name": "LayoutModel",
            "_view_count": null,
            "_view_module": "@jupyter-widgets/base",
            "_view_module_version": "1.2.0",
            "_view_name": "LayoutView",
            "align_content": null,
            "align_items": null,
            "align_self": null,
            "border": null,
            "bottom": null,
            "display": null,
            "flex": null,
            "flex_flow": null,
            "grid_area": null,
            "grid_auto_columns": null,
            "grid_auto_flow": null,
            "grid_auto_rows": null,
            "grid_column": null,
            "grid_gap": null,
            "grid_row": null,
            "grid_template_areas": null,
            "grid_template_columns": null,
            "grid_template_rows": null,
            "height": null,
            "justify_content": null,
            "justify_items": null,
            "left": null,
            "margin": null,
            "max_height": null,
            "max_width": null,
            "min_height": null,
            "min_width": null,
            "object_fit": null,
            "object_position": null,
            "order": null,
            "overflow": null,
            "overflow_x": null,
            "overflow_y": null,
            "padding": null,
            "right": null,
            "top": null,
            "visibility": null,
            "width": null
          }
        },
        "fd47327c63ea404b948e0b8c6743e866": {
          "model_module": "@jupyter-widgets/base",
          "model_name": "LayoutModel",
          "model_module_version": "1.2.0",
          "state": {
            "_model_module": "@jupyter-widgets/base",
            "_model_module_version": "1.2.0",
            "_model_name": "LayoutModel",
            "_view_count": null,
            "_view_module": "@jupyter-widgets/base",
            "_view_module_version": "1.2.0",
            "_view_name": "LayoutView",
            "align_content": null,
            "align_items": null,
            "align_self": null,
            "border": null,
            "bottom": null,
            "display": null,
            "flex": null,
            "flex_flow": null,
            "grid_area": null,
            "grid_auto_columns": null,
            "grid_auto_flow": null,
            "grid_auto_rows": null,
            "grid_column": null,
            "grid_gap": null,
            "grid_row": null,
            "grid_template_areas": null,
            "grid_template_columns": null,
            "grid_template_rows": null,
            "height": null,
            "justify_content": null,
            "justify_items": null,
            "left": null,
            "margin": null,
            "max_height": null,
            "max_width": null,
            "min_height": null,
            "min_width": null,
            "object_fit": null,
            "object_position": null,
            "order": null,
            "overflow": null,
            "overflow_x": null,
            "overflow_y": null,
            "padding": null,
            "right": null,
            "top": null,
            "visibility": null,
            "width": null
          }
        },
        "dcf99f495b3248b19a1cac948137fcdd": {
          "model_module": "@jupyter-widgets/controls",
          "model_name": "DescriptionStyleModel",
          "model_module_version": "1.5.0",
          "state": {
            "_model_module": "@jupyter-widgets/controls",
            "_model_module_version": "1.5.0",
            "_model_name": "DescriptionStyleModel",
            "_view_count": null,
            "_view_module": "@jupyter-widgets/base",
            "_view_module_version": "1.2.0",
            "_view_name": "StyleView",
            "description_width": ""
          }
        },
        "1d13ed06e44943ee82b37a821c7cf7af": {
          "model_module": "@jupyter-widgets/base",
          "model_name": "LayoutModel",
          "model_module_version": "1.2.0",
          "state": {
            "_model_module": "@jupyter-widgets/base",
            "_model_module_version": "1.2.0",
            "_model_name": "LayoutModel",
            "_view_count": null,
            "_view_module": "@jupyter-widgets/base",
            "_view_module_version": "1.2.0",
            "_view_name": "LayoutView",
            "align_content": null,
            "align_items": null,
            "align_self": null,
            "border": null,
            "bottom": null,
            "display": null,
            "flex": null,
            "flex_flow": null,
            "grid_area": null,
            "grid_auto_columns": null,
            "grid_auto_flow": null,
            "grid_auto_rows": null,
            "grid_column": null,
            "grid_gap": null,
            "grid_row": null,
            "grid_template_areas": null,
            "grid_template_columns": null,
            "grid_template_rows": null,
            "height": null,
            "justify_content": null,
            "justify_items": null,
            "left": null,
            "margin": null,
            "max_height": null,
            "max_width": null,
            "min_height": null,
            "min_width": null,
            "object_fit": null,
            "object_position": null,
            "order": null,
            "overflow": null,
            "overflow_x": null,
            "overflow_y": null,
            "padding": null,
            "right": null,
            "top": null,
            "visibility": null,
            "width": null
          }
        },
        "16b31a5233c54f3287e0ef81da82f489": {
          "model_module": "@jupyter-widgets/controls",
          "model_name": "ProgressStyleModel",
          "model_module_version": "1.5.0",
          "state": {
            "_model_module": "@jupyter-widgets/controls",
            "_model_module_version": "1.5.0",
            "_model_name": "ProgressStyleModel",
            "_view_count": null,
            "_view_module": "@jupyter-widgets/base",
            "_view_module_version": "1.2.0",
            "_view_name": "StyleView",
            "bar_color": null,
            "description_width": ""
          }
        },
        "6194b130c62d4dbe897188d82e4fb5a4": {
          "model_module": "@jupyter-widgets/base",
          "model_name": "LayoutModel",
          "model_module_version": "1.2.0",
          "state": {
            "_model_module": "@jupyter-widgets/base",
            "_model_module_version": "1.2.0",
            "_model_name": "LayoutModel",
            "_view_count": null,
            "_view_module": "@jupyter-widgets/base",
            "_view_module_version": "1.2.0",
            "_view_name": "LayoutView",
            "align_content": null,
            "align_items": null,
            "align_self": null,
            "border": null,
            "bottom": null,
            "display": null,
            "flex": null,
            "flex_flow": null,
            "grid_area": null,
            "grid_auto_columns": null,
            "grid_auto_flow": null,
            "grid_auto_rows": null,
            "grid_column": null,
            "grid_gap": null,
            "grid_row": null,
            "grid_template_areas": null,
            "grid_template_columns": null,
            "grid_template_rows": null,
            "height": null,
            "justify_content": null,
            "justify_items": null,
            "left": null,
            "margin": null,
            "max_height": null,
            "max_width": null,
            "min_height": null,
            "min_width": null,
            "object_fit": null,
            "object_position": null,
            "order": null,
            "overflow": null,
            "overflow_x": null,
            "overflow_y": null,
            "padding": null,
            "right": null,
            "top": null,
            "visibility": null,
            "width": null
          }
        },
        "8c3fa6bf109748839e4e2d282c1c6f6f": {
          "model_module": "@jupyter-widgets/controls",
          "model_name": "DescriptionStyleModel",
          "model_module_version": "1.5.0",
          "state": {
            "_model_module": "@jupyter-widgets/controls",
            "_model_module_version": "1.5.0",
            "_model_name": "DescriptionStyleModel",
            "_view_count": null,
            "_view_module": "@jupyter-widgets/base",
            "_view_module_version": "1.2.0",
            "_view_name": "StyleView",
            "description_width": ""
          }
        },
        "d71eb071fa5041d9bf08098a8253c6b2": {
          "model_module": "@jupyter-widgets/controls",
          "model_name": "HBoxModel",
          "model_module_version": "1.5.0",
          "state": {
            "_dom_classes": [],
            "_model_module": "@jupyter-widgets/controls",
            "_model_module_version": "1.5.0",
            "_model_name": "HBoxModel",
            "_view_count": null,
            "_view_module": "@jupyter-widgets/controls",
            "_view_module_version": "1.5.0",
            "_view_name": "HBoxView",
            "box_style": "",
            "children": [
              "IPY_MODEL_7a52f10d50244659bdc2c78e6f3f6665",
              "IPY_MODEL_49f09b33924b4355b339a80d5dbdf52e",
              "IPY_MODEL_9cb8404b9036455cb0b3add0b8f0e7a0"
            ],
            "layout": "IPY_MODEL_937d2d964cdf4f3d9fb1eb689c64745e"
          }
        },
        "7a52f10d50244659bdc2c78e6f3f6665": {
          "model_module": "@jupyter-widgets/controls",
          "model_name": "HTMLModel",
          "model_module_version": "1.5.0",
          "state": {
            "_dom_classes": [],
            "_model_module": "@jupyter-widgets/controls",
            "_model_module_version": "1.5.0",
            "_model_name": "HTMLModel",
            "_view_count": null,
            "_view_module": "@jupyter-widgets/controls",
            "_view_module_version": "1.5.0",
            "_view_name": "HTMLView",
            "description": "",
            "description_tooltip": null,
            "layout": "IPY_MODEL_15f367f8b2494827892d5f5b11bfa650",
            "placeholder": "​",
            "style": "IPY_MODEL_e59f02988d48461ba90be9c0b1250a79",
            "value": "Downloading (…)olve/main/vocab.json: 100%"
          }
        },
        "49f09b33924b4355b339a80d5dbdf52e": {
          "model_module": "@jupyter-widgets/controls",
          "model_name": "FloatProgressModel",
          "model_module_version": "1.5.0",
          "state": {
            "_dom_classes": [],
            "_model_module": "@jupyter-widgets/controls",
            "_model_module_version": "1.5.0",
            "_model_name": "FloatProgressModel",
            "_view_count": null,
            "_view_module": "@jupyter-widgets/controls",
            "_view_module_version": "1.5.0",
            "_view_name": "ProgressView",
            "bar_style": "success",
            "description": "",
            "description_tooltip": null,
            "layout": "IPY_MODEL_4d67025bfcc74486808dc9fdf5a93b4d",
            "max": 898822,
            "min": 0,
            "orientation": "horizontal",
            "style": "IPY_MODEL_8e8d53a644854e98af46723de83c84b6",
            "value": 898822
          }
        },
        "9cb8404b9036455cb0b3add0b8f0e7a0": {
          "model_module": "@jupyter-widgets/controls",
          "model_name": "HTMLModel",
          "model_module_version": "1.5.0",
          "state": {
            "_dom_classes": [],
            "_model_module": "@jupyter-widgets/controls",
            "_model_module_version": "1.5.0",
            "_model_name": "HTMLModel",
            "_view_count": null,
            "_view_module": "@jupyter-widgets/controls",
            "_view_module_version": "1.5.0",
            "_view_name": "HTMLView",
            "description": "",
            "description_tooltip": null,
            "layout": "IPY_MODEL_98418b6f973c42eaa51125b6d6359542",
            "placeholder": "​",
            "style": "IPY_MODEL_4b4646cc0a104ff0ac0eeefb797f3623",
            "value": " 899k/899k [00:00&lt;00:00, 4.54MB/s]"
          }
        },
        "937d2d964cdf4f3d9fb1eb689c64745e": {
          "model_module": "@jupyter-widgets/base",
          "model_name": "LayoutModel",
          "model_module_version": "1.2.0",
          "state": {
            "_model_module": "@jupyter-widgets/base",
            "_model_module_version": "1.2.0",
            "_model_name": "LayoutModel",
            "_view_count": null,
            "_view_module": "@jupyter-widgets/base",
            "_view_module_version": "1.2.0",
            "_view_name": "LayoutView",
            "align_content": null,
            "align_items": null,
            "align_self": null,
            "border": null,
            "bottom": null,
            "display": null,
            "flex": null,
            "flex_flow": null,
            "grid_area": null,
            "grid_auto_columns": null,
            "grid_auto_flow": null,
            "grid_auto_rows": null,
            "grid_column": null,
            "grid_gap": null,
            "grid_row": null,
            "grid_template_areas": null,
            "grid_template_columns": null,
            "grid_template_rows": null,
            "height": null,
            "justify_content": null,
            "justify_items": null,
            "left": null,
            "margin": null,
            "max_height": null,
            "max_width": null,
            "min_height": null,
            "min_width": null,
            "object_fit": null,
            "object_position": null,
            "order": null,
            "overflow": null,
            "overflow_x": null,
            "overflow_y": null,
            "padding": null,
            "right": null,
            "top": null,
            "visibility": null,
            "width": null
          }
        },
        "15f367f8b2494827892d5f5b11bfa650": {
          "model_module": "@jupyter-widgets/base",
          "model_name": "LayoutModel",
          "model_module_version": "1.2.0",
          "state": {
            "_model_module": "@jupyter-widgets/base",
            "_model_module_version": "1.2.0",
            "_model_name": "LayoutModel",
            "_view_count": null,
            "_view_module": "@jupyter-widgets/base",
            "_view_module_version": "1.2.0",
            "_view_name": "LayoutView",
            "align_content": null,
            "align_items": null,
            "align_self": null,
            "border": null,
            "bottom": null,
            "display": null,
            "flex": null,
            "flex_flow": null,
            "grid_area": null,
            "grid_auto_columns": null,
            "grid_auto_flow": null,
            "grid_auto_rows": null,
            "grid_column": null,
            "grid_gap": null,
            "grid_row": null,
            "grid_template_areas": null,
            "grid_template_columns": null,
            "grid_template_rows": null,
            "height": null,
            "justify_content": null,
            "justify_items": null,
            "left": null,
            "margin": null,
            "max_height": null,
            "max_width": null,
            "min_height": null,
            "min_width": null,
            "object_fit": null,
            "object_position": null,
            "order": null,
            "overflow": null,
            "overflow_x": null,
            "overflow_y": null,
            "padding": null,
            "right": null,
            "top": null,
            "visibility": null,
            "width": null
          }
        },
        "e59f02988d48461ba90be9c0b1250a79": {
          "model_module": "@jupyter-widgets/controls",
          "model_name": "DescriptionStyleModel",
          "model_module_version": "1.5.0",
          "state": {
            "_model_module": "@jupyter-widgets/controls",
            "_model_module_version": "1.5.0",
            "_model_name": "DescriptionStyleModel",
            "_view_count": null,
            "_view_module": "@jupyter-widgets/base",
            "_view_module_version": "1.2.0",
            "_view_name": "StyleView",
            "description_width": ""
          }
        },
        "4d67025bfcc74486808dc9fdf5a93b4d": {
          "model_module": "@jupyter-widgets/base",
          "model_name": "LayoutModel",
          "model_module_version": "1.2.0",
          "state": {
            "_model_module": "@jupyter-widgets/base",
            "_model_module_version": "1.2.0",
            "_model_name": "LayoutModel",
            "_view_count": null,
            "_view_module": "@jupyter-widgets/base",
            "_view_module_version": "1.2.0",
            "_view_name": "LayoutView",
            "align_content": null,
            "align_items": null,
            "align_self": null,
            "border": null,
            "bottom": null,
            "display": null,
            "flex": null,
            "flex_flow": null,
            "grid_area": null,
            "grid_auto_columns": null,
            "grid_auto_flow": null,
            "grid_auto_rows": null,
            "grid_column": null,
            "grid_gap": null,
            "grid_row": null,
            "grid_template_areas": null,
            "grid_template_columns": null,
            "grid_template_rows": null,
            "height": null,
            "justify_content": null,
            "justify_items": null,
            "left": null,
            "margin": null,
            "max_height": null,
            "max_width": null,
            "min_height": null,
            "min_width": null,
            "object_fit": null,
            "object_position": null,
            "order": null,
            "overflow": null,
            "overflow_x": null,
            "overflow_y": null,
            "padding": null,
            "right": null,
            "top": null,
            "visibility": null,
            "width": null
          }
        },
        "8e8d53a644854e98af46723de83c84b6": {
          "model_module": "@jupyter-widgets/controls",
          "model_name": "ProgressStyleModel",
          "model_module_version": "1.5.0",
          "state": {
            "_model_module": "@jupyter-widgets/controls",
            "_model_module_version": "1.5.0",
            "_model_name": "ProgressStyleModel",
            "_view_count": null,
            "_view_module": "@jupyter-widgets/base",
            "_view_module_version": "1.2.0",
            "_view_name": "StyleView",
            "bar_color": null,
            "description_width": ""
          }
        },
        "98418b6f973c42eaa51125b6d6359542": {
          "model_module": "@jupyter-widgets/base",
          "model_name": "LayoutModel",
          "model_module_version": "1.2.0",
          "state": {
            "_model_module": "@jupyter-widgets/base",
            "_model_module_version": "1.2.0",
            "_model_name": "LayoutModel",
            "_view_count": null,
            "_view_module": "@jupyter-widgets/base",
            "_view_module_version": "1.2.0",
            "_view_name": "LayoutView",
            "align_content": null,
            "align_items": null,
            "align_self": null,
            "border": null,
            "bottom": null,
            "display": null,
            "flex": null,
            "flex_flow": null,
            "grid_area": null,
            "grid_auto_columns": null,
            "grid_auto_flow": null,
            "grid_auto_rows": null,
            "grid_column": null,
            "grid_gap": null,
            "grid_row": null,
            "grid_template_areas": null,
            "grid_template_columns": null,
            "grid_template_rows": null,
            "height": null,
            "justify_content": null,
            "justify_items": null,
            "left": null,
            "margin": null,
            "max_height": null,
            "max_width": null,
            "min_height": null,
            "min_width": null,
            "object_fit": null,
            "object_position": null,
            "order": null,
            "overflow": null,
            "overflow_x": null,
            "overflow_y": null,
            "padding": null,
            "right": null,
            "top": null,
            "visibility": null,
            "width": null
          }
        },
        "4b4646cc0a104ff0ac0eeefb797f3623": {
          "model_module": "@jupyter-widgets/controls",
          "model_name": "DescriptionStyleModel",
          "model_module_version": "1.5.0",
          "state": {
            "_model_module": "@jupyter-widgets/controls",
            "_model_module_version": "1.5.0",
            "_model_name": "DescriptionStyleModel",
            "_view_count": null,
            "_view_module": "@jupyter-widgets/base",
            "_view_module_version": "1.2.0",
            "_view_name": "StyleView",
            "description_width": ""
          }
        },
        "169ae048abed4eadaa3675d6cd7308d2": {
          "model_module": "@jupyter-widgets/controls",
          "model_name": "HBoxModel",
          "model_module_version": "1.5.0",
          "state": {
            "_dom_classes": [],
            "_model_module": "@jupyter-widgets/controls",
            "_model_module_version": "1.5.0",
            "_model_name": "HBoxModel",
            "_view_count": null,
            "_view_module": "@jupyter-widgets/controls",
            "_view_module_version": "1.5.0",
            "_view_name": "HBoxView",
            "box_style": "",
            "children": [
              "IPY_MODEL_5054d2e7b33643c78ba03533c2f78027",
              "IPY_MODEL_3973ec78344c42cda9af6bcc4ec72e2c",
              "IPY_MODEL_f92365c2e76543b8ad67ff2c26fdd4ca"
            ],
            "layout": "IPY_MODEL_c4e855304e1b41bebbcee859ba88e1ba"
          }
        },
        "5054d2e7b33643c78ba03533c2f78027": {
          "model_module": "@jupyter-widgets/controls",
          "model_name": "HTMLModel",
          "model_module_version": "1.5.0",
          "state": {
            "_dom_classes": [],
            "_model_module": "@jupyter-widgets/controls",
            "_model_module_version": "1.5.0",
            "_model_name": "HTMLModel",
            "_view_count": null,
            "_view_module": "@jupyter-widgets/controls",
            "_view_module_version": "1.5.0",
            "_view_name": "HTMLView",
            "description": "",
            "description_tooltip": null,
            "layout": "IPY_MODEL_8693ed8dd0ec4771ad3295ab67929538",
            "placeholder": "​",
            "style": "IPY_MODEL_56cd5bc7a60f44c39cb7b5375f72c251",
            "value": "Downloading (…)olve/main/merges.txt: 100%"
          }
        },
        "3973ec78344c42cda9af6bcc4ec72e2c": {
          "model_module": "@jupyter-widgets/controls",
          "model_name": "FloatProgressModel",
          "model_module_version": "1.5.0",
          "state": {
            "_dom_classes": [],
            "_model_module": "@jupyter-widgets/controls",
            "_model_module_version": "1.5.0",
            "_model_name": "FloatProgressModel",
            "_view_count": null,
            "_view_module": "@jupyter-widgets/controls",
            "_view_module_version": "1.5.0",
            "_view_name": "ProgressView",
            "bar_style": "success",
            "description": "",
            "description_tooltip": null,
            "layout": "IPY_MODEL_f1538b0d9c3442bbb57ebdacc8042252",
            "max": 456318,
            "min": 0,
            "orientation": "horizontal",
            "style": "IPY_MODEL_6b7dc3d0f1ac480b8b91912e9de7f4f1",
            "value": 456318
          }
        },
        "f92365c2e76543b8ad67ff2c26fdd4ca": {
          "model_module": "@jupyter-widgets/controls",
          "model_name": "HTMLModel",
          "model_module_version": "1.5.0",
          "state": {
            "_dom_classes": [],
            "_model_module": "@jupyter-widgets/controls",
            "_model_module_version": "1.5.0",
            "_model_name": "HTMLModel",
            "_view_count": null,
            "_view_module": "@jupyter-widgets/controls",
            "_view_module_version": "1.5.0",
            "_view_name": "HTMLView",
            "description": "",
            "description_tooltip": null,
            "layout": "IPY_MODEL_037e3d09fdd743808e139d6ab4bcbd74",
            "placeholder": "​",
            "style": "IPY_MODEL_cbee50642e9146f19da0c944d6012f74",
            "value": " 456k/456k [00:00&lt;00:00, 18.9MB/s]"
          }
        },
        "c4e855304e1b41bebbcee859ba88e1ba": {
          "model_module": "@jupyter-widgets/base",
          "model_name": "LayoutModel",
          "model_module_version": "1.2.0",
          "state": {
            "_model_module": "@jupyter-widgets/base",
            "_model_module_version": "1.2.0",
            "_model_name": "LayoutModel",
            "_view_count": null,
            "_view_module": "@jupyter-widgets/base",
            "_view_module_version": "1.2.0",
            "_view_name": "LayoutView",
            "align_content": null,
            "align_items": null,
            "align_self": null,
            "border": null,
            "bottom": null,
            "display": null,
            "flex": null,
            "flex_flow": null,
            "grid_area": null,
            "grid_auto_columns": null,
            "grid_auto_flow": null,
            "grid_auto_rows": null,
            "grid_column": null,
            "grid_gap": null,
            "grid_row": null,
            "grid_template_areas": null,
            "grid_template_columns": null,
            "grid_template_rows": null,
            "height": null,
            "justify_content": null,
            "justify_items": null,
            "left": null,
            "margin": null,
            "max_height": null,
            "max_width": null,
            "min_height": null,
            "min_width": null,
            "object_fit": null,
            "object_position": null,
            "order": null,
            "overflow": null,
            "overflow_x": null,
            "overflow_y": null,
            "padding": null,
            "right": null,
            "top": null,
            "visibility": null,
            "width": null
          }
        },
        "8693ed8dd0ec4771ad3295ab67929538": {
          "model_module": "@jupyter-widgets/base",
          "model_name": "LayoutModel",
          "model_module_version": "1.2.0",
          "state": {
            "_model_module": "@jupyter-widgets/base",
            "_model_module_version": "1.2.0",
            "_model_name": "LayoutModel",
            "_view_count": null,
            "_view_module": "@jupyter-widgets/base",
            "_view_module_version": "1.2.0",
            "_view_name": "LayoutView",
            "align_content": null,
            "align_items": null,
            "align_self": null,
            "border": null,
            "bottom": null,
            "display": null,
            "flex": null,
            "flex_flow": null,
            "grid_area": null,
            "grid_auto_columns": null,
            "grid_auto_flow": null,
            "grid_auto_rows": null,
            "grid_column": null,
            "grid_gap": null,
            "grid_row": null,
            "grid_template_areas": null,
            "grid_template_columns": null,
            "grid_template_rows": null,
            "height": null,
            "justify_content": null,
            "justify_items": null,
            "left": null,
            "margin": null,
            "max_height": null,
            "max_width": null,
            "min_height": null,
            "min_width": null,
            "object_fit": null,
            "object_position": null,
            "order": null,
            "overflow": null,
            "overflow_x": null,
            "overflow_y": null,
            "padding": null,
            "right": null,
            "top": null,
            "visibility": null,
            "width": null
          }
        },
        "56cd5bc7a60f44c39cb7b5375f72c251": {
          "model_module": "@jupyter-widgets/controls",
          "model_name": "DescriptionStyleModel",
          "model_module_version": "1.5.0",
          "state": {
            "_model_module": "@jupyter-widgets/controls",
            "_model_module_version": "1.5.0",
            "_model_name": "DescriptionStyleModel",
            "_view_count": null,
            "_view_module": "@jupyter-widgets/base",
            "_view_module_version": "1.2.0",
            "_view_name": "StyleView",
            "description_width": ""
          }
        },
        "f1538b0d9c3442bbb57ebdacc8042252": {
          "model_module": "@jupyter-widgets/base",
          "model_name": "LayoutModel",
          "model_module_version": "1.2.0",
          "state": {
            "_model_module": "@jupyter-widgets/base",
            "_model_module_version": "1.2.0",
            "_model_name": "LayoutModel",
            "_view_count": null,
            "_view_module": "@jupyter-widgets/base",
            "_view_module_version": "1.2.0",
            "_view_name": "LayoutView",
            "align_content": null,
            "align_items": null,
            "align_self": null,
            "border": null,
            "bottom": null,
            "display": null,
            "flex": null,
            "flex_flow": null,
            "grid_area": null,
            "grid_auto_columns": null,
            "grid_auto_flow": null,
            "grid_auto_rows": null,
            "grid_column": null,
            "grid_gap": null,
            "grid_row": null,
            "grid_template_areas": null,
            "grid_template_columns": null,
            "grid_template_rows": null,
            "height": null,
            "justify_content": null,
            "justify_items": null,
            "left": null,
            "margin": null,
            "max_height": null,
            "max_width": null,
            "min_height": null,
            "min_width": null,
            "object_fit": null,
            "object_position": null,
            "order": null,
            "overflow": null,
            "overflow_x": null,
            "overflow_y": null,
            "padding": null,
            "right": null,
            "top": null,
            "visibility": null,
            "width": null
          }
        },
        "6b7dc3d0f1ac480b8b91912e9de7f4f1": {
          "model_module": "@jupyter-widgets/controls",
          "model_name": "ProgressStyleModel",
          "model_module_version": "1.5.0",
          "state": {
            "_model_module": "@jupyter-widgets/controls",
            "_model_module_version": "1.5.0",
            "_model_name": "ProgressStyleModel",
            "_view_count": null,
            "_view_module": "@jupyter-widgets/base",
            "_view_module_version": "1.2.0",
            "_view_name": "StyleView",
            "bar_color": null,
            "description_width": ""
          }
        },
        "037e3d09fdd743808e139d6ab4bcbd74": {
          "model_module": "@jupyter-widgets/base",
          "model_name": "LayoutModel",
          "model_module_version": "1.2.0",
          "state": {
            "_model_module": "@jupyter-widgets/base",
            "_model_module_version": "1.2.0",
            "_model_name": "LayoutModel",
            "_view_count": null,
            "_view_module": "@jupyter-widgets/base",
            "_view_module_version": "1.2.0",
            "_view_name": "LayoutView",
            "align_content": null,
            "align_items": null,
            "align_self": null,
            "border": null,
            "bottom": null,
            "display": null,
            "flex": null,
            "flex_flow": null,
            "grid_area": null,
            "grid_auto_columns": null,
            "grid_auto_flow": null,
            "grid_auto_rows": null,
            "grid_column": null,
            "grid_gap": null,
            "grid_row": null,
            "grid_template_areas": null,
            "grid_template_columns": null,
            "grid_template_rows": null,
            "height": null,
            "justify_content": null,
            "justify_items": null,
            "left": null,
            "margin": null,
            "max_height": null,
            "max_width": null,
            "min_height": null,
            "min_width": null,
            "object_fit": null,
            "object_position": null,
            "order": null,
            "overflow": null,
            "overflow_x": null,
            "overflow_y": null,
            "padding": null,
            "right": null,
            "top": null,
            "visibility": null,
            "width": null
          }
        },
        "cbee50642e9146f19da0c944d6012f74": {
          "model_module": "@jupyter-widgets/controls",
          "model_name": "DescriptionStyleModel",
          "model_module_version": "1.5.0",
          "state": {
            "_model_module": "@jupyter-widgets/controls",
            "_model_module_version": "1.5.0",
            "_model_name": "DescriptionStyleModel",
            "_view_count": null,
            "_view_module": "@jupyter-widgets/base",
            "_view_module_version": "1.2.0",
            "_view_name": "StyleView",
            "description_width": ""
          }
        }
      }
    }
  },
  "cells": [
    {
      "cell_type": "markdown",
      "metadata": {
        "id": "view-in-github",
        "colab_type": "text"
      },
      "source": [
        "<a href=\"https://colab.research.google.com/github/DevRitikRaj/Youtube_Text_Summeriser_Golden_project_02_CodeClause/blob/main/youtube_transcript_summarizer.ipynb\" target=\"_parent\"><img src=\"https://colab.research.google.com/assets/colab-badge.svg\" alt=\"Open In Colab\"/></a>"
      ]
    },
    {
      "cell_type": "code",
      "execution_count": null,
      "metadata": {
        "colab": {
          "base_uri": "https://localhost:8080/"
        },
        "id": "F3BvIFLh-wca",
        "outputId": "2384b83b-1532-40c7-8bf3-2c230fedf757"
      },
      "outputs": [
        {
          "output_type": "stream",
          "name": "stdout",
          "text": [
            "\u001b[2K     \u001b[90m━━━━━━━━━━━━━━━━━━━━━━━━━━━━━━━━━━━━━━━━\u001b[0m \u001b[32m7.6/7.6 MB\u001b[0m \u001b[31m29.6 MB/s\u001b[0m eta \u001b[36m0:00:00\u001b[0m\n",
            "\u001b[2K     \u001b[90m━━━━━━━━━━━━━━━━━━━━━━━━━━━━━━━━━━━━━━\u001b[0m \u001b[32m294.9/294.9 kB\u001b[0m \u001b[31m21.2 MB/s\u001b[0m eta \u001b[36m0:00:00\u001b[0m\n",
            "\u001b[2K     \u001b[90m━━━━━━━━━━━━━━━━━━━━━━━━━━━━━━━━━━━━━━━━\u001b[0m \u001b[32m7.8/7.8 MB\u001b[0m \u001b[31m62.3 MB/s\u001b[0m eta \u001b[36m0:00:00\u001b[0m\n",
            "\u001b[2K     \u001b[90m━━━━━━━━━━━━━━━━━━━━━━━━━━━━━━━━━━━━━━━━\u001b[0m \u001b[32m1.3/1.3 MB\u001b[0m \u001b[31m59.5 MB/s\u001b[0m eta \u001b[36m0:00:00\u001b[0m\n",
            "\u001b[?25h"
          ]
        }
      ],
      "source": [
        "pip install -q transformers"
      ]
    },
    {
      "cell_type": "code",
      "source": [
        "pip install -q youtube_transcript_api"
      ],
      "metadata": {
        "id": "ep8yZ87P-0y7"
      },
      "execution_count": null,
      "outputs": []
    },
    {
      "cell_type": "code",
      "source": [
        "from transformers import pipeline\n",
        "from youtube_transcript_api import YouTubeTranscriptApi"
      ],
      "metadata": {
        "id": "Q6geq7DQ_CmU"
      },
      "execution_count": null,
      "outputs": []
    },
    {
      "cell_type": "code",
      "source": [
        "youtube_video = \"https://www.youtube.com/watch?v=rcDhvR3oeiE\""
      ],
      "metadata": {
        "id": "doYU-KN4_KHC"
      },
      "execution_count": null,
      "outputs": []
    },
    {
      "cell_type": "code",
      "source": [
        "video_id = youtube_video.split(\"=\")[1]"
      ],
      "metadata": {
        "id": "kwFCKD5B_0SE"
      },
      "execution_count": null,
      "outputs": []
    },
    {
      "cell_type": "code",
      "source": [
        "video_id"
      ],
      "metadata": {
        "colab": {
          "base_uri": "https://localhost:8080/",
          "height": 35
        },
        "id": "PG3XcrJV_3p8",
        "outputId": "a21a3e4c-b612-488c-acff-406318a2fbe2"
      },
      "execution_count": null,
      "outputs": [
        {
          "output_type": "execute_result",
          "data": {
            "text/plain": [
              "'rcDhvR3oeiE'"
            ],
            "application/vnd.google.colaboratory.intrinsic+json": {
              "type": "string"
            }
          },
          "metadata": {},
          "execution_count": 29
        }
      ]
    },
    {
      "cell_type": "code",
      "source": [
        "from IPython.display import YouTubeVideo\n",
        "YouTubeVideo(video_id)"
      ],
      "metadata": {
        "colab": {
          "base_uri": "https://localhost:8080/",
          "height": 321
        },
        "id": "W58l7pmn_73B",
        "outputId": "87b28585-5470-4934-f1c9-c4ddd514e8a5"
      },
      "execution_count": null,
      "outputs": [
        {
          "output_type": "execute_result",
          "data": {
            "text/plain": [
              "<IPython.lib.display.YouTubeVideo at 0x7a43030bd690>"
            ],
            "text/html": [
              "\n",
              "        <iframe\n",
              "            width=\"400\"\n",
              "            height=\"300\"\n",
              "            src=\"https://www.youtube.com/embed/rcDhvR3oeiE\"\n",
              "            frameborder=\"0\"\n",
              "            allowfullscreen\n",
              "            \n",
              "        ></iframe>\n",
              "        "
            ],
            "image/jpeg": "[encoded data removed]"
          },
          "metadata": {},
          "execution_count": 30
        }
      ]
    },
    {
      "cell_type": "code",
      "source": [
        "YouTubeTranscriptApi.get_transcript(video_id)\n",
        "transcript = YouTubeTranscriptApi.get_transcript(video_id)"
      ],
      "metadata": {
        "id": "PNS1U4dcAAVR"
      },
      "execution_count": null,
      "outputs": []
    },
    {
      "cell_type": "code",
      "source": [
        "transcript[0:5]"
      ],
      "metadata": {
        "colab": {
          "base_uri": "https://localhost:8080/"
        },
        "id": "mp2pikOAAEz6",
        "outputId": "bd7461fd-9ddb-4d61-a93b-5a989f59625e"
      },
      "execution_count": null,
      "outputs": [
        {
          "output_type": "execute_result",
          "data": {
            "text/plain": [
              "[{'text': '[Applause]', 'start': 2.61, 'duration': 44.219},\n",
              " {'text': '[Applause]', 'start': 57.8, 'duration': 21.9},\n",
              " {'text': '[Applause]', 'start': 89.61, 'duration': 14.26},\n",
              " {'text': '[Applause]', 'start': 107.62, 'duration': 2.86},\n",
              " {'text': '[Music]', 'start': 109.87, 'duration': 28.62}]"
            ]
          },
          "metadata": {},
          "execution_count": 32
        }
      ]
    },
    {
      "cell_type": "code",
      "source": [
        "result = \"\"\n",
        "for i in transcript:\n",
        "    result += ' ' + i['text']\n",
        "#print(result)\n",
        "print(len(result))"
      ],
      "metadata": {
        "colab": {
          "base_uri": "https://localhost:8080/"
        },
        "id": "YxVvApGgAmhr",
        "outputId": "29304c7c-a681-4e69-cd12-6f054f80f7a1"
      },
      "execution_count": null,
      "outputs": [
        {
          "output_type": "stream",
          "name": "stdout",
          "text": [
            "19644\n"
          ]
        }
      ]
    },
    {
      "cell_type": "code",
      "source": [
        "summarizer = pipeline('summarization')"
      ],
      "metadata": {
        "colab": {
          "base_uri": "https://localhost:8080/",
          "height": 232,
          "referenced_widgets": [
            "cdae178094604089887203138ec97c54",
            "f7652bae44b6490992d5df579dad31ab",
            "b783e774bf1040c392e4229616de4885",
            "617fbe996f654cd3837c95fcc468ff21",
            "310461c2c9f84b9d895522c2efa0fe82",
            "afbad5e257be47489752424a393ff469",
            "772ee1f878934a099c02189ecb535b5e",
            "37c12368619a4ffe90580bc0b5539910",
            "4bd50384648f4e319006f32f489a563d",
            "5a77dcc435c6465d93486b47fb40e5b0",
            "196b91e9a7a24237a6050152ad8a26a3",
            "642c13009ced40feb8064fd6d96324c6",
            "05f8854b313a4dbc800ddb57097fd8a4",
            "34631ff3ee444973bdac300f7e27fe19",
            "0f495f07359e4c08bca501303c910bf3",
            "afe8ffe1cfd54a83b3a7044894722a7b",
            "d3f15ba0f7c44fc1aedded230f8ba1bd",
            "1bd5ea52b919447c8d8c5732044d0a27",
            "93f2516d50bf4ad382ba38afaba47456",
            "7be111d854834367b4b9c424d1d3ece2",
            "658cbe498ba94a19bdb3195ddcc57317",
            "a50274045b204d2c9703bcffc75ced7a",
            "7f1d7824ea764385803da00fd5132123",
            "bc50d561504b4ae1bd7d36ce89bc180c",
            "fd5a194de6ed430fa7168574b6dfa75a",
            "b67f329e18704870a319c18850856573",
            "6e5fd3038c9744a29d4cf23b7bc93b23",
            "fd47327c63ea404b948e0b8c6743e866",
            "dcf99f495b3248b19a1cac948137fcdd",
            "1d13ed06e44943ee82b37a821c7cf7af",
            "16b31a5233c54f3287e0ef81da82f489",
            "6194b130c62d4dbe897188d82e4fb5a4",
            "8c3fa6bf109748839e4e2d282c1c6f6f",
            "d71eb071fa5041d9bf08098a8253c6b2",
            "7a52f10d50244659bdc2c78e6f3f6665",
            "49f09b33924b4355b339a80d5dbdf52e",
            "9cb8404b9036455cb0b3add0b8f0e7a0",
            "937d2d964cdf4f3d9fb1eb689c64745e",
            "15f367f8b2494827892d5f5b11bfa650",
            "e59f02988d48461ba90be9c0b1250a79",
            "4d67025bfcc74486808dc9fdf5a93b4d",
            "8e8d53a644854e98af46723de83c84b6",
            "98418b6f973c42eaa51125b6d6359542",
            "4b4646cc0a104ff0ac0eeefb797f3623",
            "169ae048abed4eadaa3675d6cd7308d2",
            "5054d2e7b33643c78ba03533c2f78027",
            "3973ec78344c42cda9af6bcc4ec72e2c",
            "f92365c2e76543b8ad67ff2c26fdd4ca",
            "c4e855304e1b41bebbcee859ba88e1ba",
            "8693ed8dd0ec4771ad3295ab67929538",
            "56cd5bc7a60f44c39cb7b5375f72c251",
            "f1538b0d9c3442bbb57ebdacc8042252",
            "6b7dc3d0f1ac480b8b91912e9de7f4f1",
            "037e3d09fdd743808e139d6ab4bcbd74",
            "cbee50642e9146f19da0c944d6012f74"
          ]
        },
        "id": "x6Yclp75AqYL",
        "outputId": "1eca5ddf-ebcb-4e40-c837-8d81f6734d56"
      },
      "execution_count": null,
      "outputs": [
        {
          "output_type": "stream",
          "name": "stderr",
          "text": [
            "No model was supplied, defaulted to sshleifer/distilbart-cnn-12-6 and revision a4f8f3e (https://huggingface.co/sshleifer/distilbart-cnn-12-6).\n",
            "Using a pipeline without specifying a model name and revision in production is not recommended.\n"
          ]
        },
        {
          "output_type": "display_data",
          "data": {
            "text/plain": [
              "Downloading (…)lve/main/config.json:   0%|          | 0.00/1.80k [00:00<?, ?B/s]"
            ],
            "application/vnd.jupyter.widget-view+json": {
              "version_major": 2,
              "version_minor": 0,
              "model_id": "cdae178094604089887203138ec97c54"
            }
          },
          "metadata": {}
        },
        {
          "output_type": "display_data",
          "data": {
            "text/plain": [
              "Downloading pytorch_model.bin:   0%|          | 0.00/1.22G [00:00<?, ?B/s]"
            ],
            "application/vnd.jupyter.widget-view+json": {
              "version_major": 2,
              "version_minor": 0,
              "model_id": "642c13009ced40feb8064fd6d96324c6"
            }
          },
          "metadata": {}
        },
        {
          "output_type": "display_data",
          "data": {
            "text/plain": [
              "Downloading (…)okenizer_config.json:   0%|          | 0.00/26.0 [00:00<?, ?B/s]"
            ],
            "application/vnd.jupyter.widget-view+json": {
              "version_major": 2,
              "version_minor": 0,
              "model_id": "7f1d7824ea764385803da00fd5132123"
            }
          },
          "metadata": {}
        },
        {
          "output_type": "display_data",
          "data": {
            "text/plain": [
              "Downloading (…)olve/main/vocab.json:   0%|          | 0.00/899k [00:00<?, ?B/s]"
            ],
            "application/vnd.jupyter.widget-view+json": {
              "version_major": 2,
              "version_minor": 0,
              "model_id": "d71eb071fa5041d9bf08098a8253c6b2"
            }
          },
          "metadata": {}
        },
        {
          "output_type": "display_data",
          "data": {
            "text/plain": [
              "Downloading (…)olve/main/merges.txt:   0%|          | 0.00/456k [00:00<?, ?B/s]"
            ],
            "application/vnd.jupyter.widget-view+json": {
              "version_major": 2,
              "version_minor": 0,
              "model_id": "169ae048abed4eadaa3675d6cd7308d2"
            }
          },
          "metadata": {}
        }
      ]
    },
    {
      "cell_type": "code",
      "source": [
        "num_iters = int(len(result)/1000)\n",
        "summarized_text = []\n",
        "for i in range(0, num_iters + 1):\n",
        "  start = 0\n",
        "  start = i * 1000\n",
        "  end = (i + 1) * 1000\n",
        "  print(\"input text \\n\" + result[start:end])\n",
        "  out = summarizer(result[start:end])\n",
        "  out = out[0]\n",
        "  out = out['summary_text']\n",
        "  print(\"Summarized text\\n\"+out)\n",
        "  summarized_text.append(out)\n"
      ],
      "metadata": {
        "colab": {
          "base_uri": "https://localhost:8080/"
        },
        "id": "uXe0zBKEAudR",
        "outputId": "b14c345d-ad1b-4520-875f-70f322e72e9e"
      },
      "execution_count": null,
      "outputs": [
        {
          "output_type": "stream",
          "name": "stdout",
          "text": [
            "input text \n",
            " [Applause] [Applause] [Applause] [Applause] [Music] [Applause] [Applause] members of Congress I have the high privilege and distinct honor of presenting to you his Excellency narenda Modi the prime minister of the Republic of India thank you [Applause] Mr Speaker Madam vice president distinguished members of the U.S Congress ladies and gentlemen namaskar [Applause] [Music] [Applause] it is always a great honor to address the United States Congress exceptional privilege to do so twice [Applause] for this honor I extend my deepest gratitude on behalf of the 1.4 billion people of India [Applause] I see that nearly half of you were here in 2016. I feel your warm as old friends I can also see the enthusiasm of a new friends in the other half I remember senator Harry Reid senator John McCain senator or in Hatch Elijah Cummings Elsie Hastings and others who I met here in 2016. and who are sadly no longer with us Mr Speaker standing here seven Junes ago that is the June when Hamilton swept al\n",
            "Summarized text\n",
            " Mr Speaker Madam vice president presented to you his Excellency narenda Modi the prime minister of the Republic of India thank you [Applause] Mr Speaker . Mr Speaker: \"It is always a great honor to address the United States Congress twice. I extend my deepest gratitude on behalf of the 1.4 billion people of India\"\n",
            "input text \n",
            "l the awards I said that the hesitations of History were behind us now when our era it is a cross as is at a Crossroads I am here to speak about our calling for this century [Applause] through the long and widening Road that we have traveled we have made the test of friendship a lot has changed since I came here seven summers ago but a lord has remained the same like our commitment to deepen the friendship between India and the United States [Applause] in the past few years there have been many advances in AI artificial intelligence at the same time there have been even more momentous development in another AI America and India [Applause] Mr Speaker and distinguished members the beauty of democracy is the constant connect with the people to listen to them and fill their pulse and I know this takes a lot of time energy effort and travel it is a Thursday Thursday afternoon you fly out there for some of you so I am grateful for your time I also know how busy you have been this last month \n",
            "Summarized text\n",
            " I said that the hesitations of History were behind us now when our era it is a cross as is at a Crossroads I am here to speak about our calling for this century [Applause] A lot has changed since I came here seven summers ago but a lord has remained the same like our commitment to deepen the friendship between India and the United States .\n",
            "input text \n",
            "being a city and of a vibrant democracy myself I can admit one thing Mr Speaker you have a tough job [Applause] I can relate to the battle suppression persuasion and policy I can understand the debate of ideas and ideology but I am delighted to see you come together today to celebrate the bond between worlds two great democracies India and the United States [Applause] I am happy to help out I am happy to help out whenever you need a strong bipartisan consensus [Applause] there will be and there must be a contest of ideas at home but we must also come together as one when we speak for our nation and you have shown that you can do it congratulations [Applause] Mr Speaker the foundation of America was inspired by the vision of a nation of equal people throughout your history you Embrace people from around the world and you have made them equal Partners In The American Dream [Applause] there are millions here who have roots in India some of them sit proudly in this chamber [Applause] and t\n",
            "Summarized text\n",
            " I am delighted to see you come together today to celebrate the bond between worlds two great democracies India and the United States [Applause] I am happy to help out. being a city and of a vibrant democracy myself I can admit one thing Mr Speaker you have a tough job. I can relate to the battle suppression persuasion and policy .\n",
            "input text \n",
            "here is one behind me [Applause] when made history I am told that the Samosa caucus in now the flavor of the house I hope it grows and brings the full diversity of Indian Cuisine here [Applause] over two centuries we have inspired each other through the lives of great Americans and Indians be pay tribute to Mahatma Gandhi and Martin Luther King Jr we also remember many others who work for Liberty equality and justice today I also wish to pay heartfelt tribute to one of them congressman John Lewis [Applause] [Music] Mr Speaker democracy is one of our sacred and shared values it has evolved over a long time and taken various forms of systems throughout history however one thing has been clear democracy is the spirit that supports equality and dignity [Applause] democracy is the idea that welcomes debate and discourse democracy is the culture that gives to thought and expression India is blessed to have such values from times immemorial in the evolution of the democratic spirit India is t\n",
            "Summarized text\n",
            " Samosa caucus in now the flavor of the house I hope it grows and brings the full diversity of Indian Cuisine here [Applause] over two centuries we have inspired each other through the lives of great Americans and Indians be pay tribute to Mahatma Gandhi and Martin Luther King Jr .\n",
            "input text \n",
            "he mother of democracy [Applause] Millennia ago our oldest scripture say s means that truth is born but the wise express it in a different ways now the U.S is the oldest and India the largest democracy our partnership ogres well for the future of democracy [Applause] together we shall give a better future to the world and a better world to the Future [Applause] Mr Speaker last year India celebrated 75 years of its independence every milestone is important but this one was a special we celebrated a remarkable journey of over 75 years of freedom after a thousand years of foreign rule in one form or another this was not just the celebration of democracy but also of diversity not just the Constitution but also of its Spirit of a social empowerment not just of our competitiveness and cooperative federalism but also of our essential unity and integrity [Applause] we have over 2500 political parties yes you heard that right 2500. about 20 different parties govern various states of India we ha\n",
            "Summarized text\n",
            " Mr Speaker last year India celebrated 75 years of its independence . India has over 2500 political parties and about 20 different parties govern various states of India . Together we shall give a better future to the world and a better world to the Future [Applause] Mr Speaker .\n",
            "input text \n",
            "ve 22 official languages and thousands of dialects and yet we speak in one voice [Applause] every hundred miles our Cuisine changes from Dosa to Aloo Paratha and from sikhan to sandesh [Applause] we enjoy all of these we are home to all faiths in the world and we celebrate all of them [Applause] in India diversity is a natural way of life today the world wants to know more and more about India I see that curiosity in this house too we were honored to receive over 100 members of the U.S Congress in India over the last decade everyone wants to understand India's development democracy and diversity everyone wants to know what India is doing right and how among close friends I am happy to share the same Mr Speaker when I first visited the us as a prime minister India but the 10th largest economy in the world thanks today India is the fifth largest economic and and India will be the third largest economy soon [Applause] we are not only growing bigger but we are also growing faster when Indi\n",
            "Summarized text\n",
            " India is home to all faiths in the world and we celebrate all of them [Applause] in India diversity is a natural way of life today the world wants to know more and more about India I see that curiosity in this house too we were honored to receive over 100 members of the U.S. Congress in India over the last decade .\n",
            "input text \n",
            "a grows the whole world grows after all we are one sixth of the world's population in the last century when India won its freedom it inspired many other countries to free themselves from Colonial rule in this century when India sends Benchmark in growth it will inspire many other countries to do the same our vision is it means together for everyone's growth with everyone's trusts and everyone's efforts let me share with you how this vision is translating into action with speed and scale we are focusing on infrastructure development we have given nearly 40 million homes to provide shelter to over 150 million people that is nearly six times the population of Australia [Applause] we run a national health insurance program that ensures free medical treatment for about 500 million people 500 million people that is greater than the population of South America we took banking to the unbanked with the world's largest financial inclusion Drive nearly 500 million people benefited this is close t\n",
            "Summarized text\n",
            " India sends Benchmark in growth it will inspire many other countries to do the same our vision is it means together for everyone's growth with everyone's trusts and everyone's efforts . We are focusing on infrastructure development we have given nearly 40 million homes to provide shelter to over 150 million people that is nearly six times the population of Australia .\n",
            "input text \n",
            "o the population of North America we have work and building digital India today there are more than 850 million smartphones and internet users in the country this is more than the population of Europe we protected our people with 2.2 billion doses of Made in India covered vaccines [Applause] I may be running out of continued soon so I will stop here distinguished members The Vedas are one of the world's all the scriptures they are a great treasure of humanity composed thousands of years ago back then women Sages compose many verses in these Vedas and today in Modern India women are leading us to a better future India's vision is not just of development which benefits women it is enough women late development where women lead the Journey of progress [Applause] a woman has risen from a humble tribal background to be our head of states foreign 1.5 million elected women leaders at various levels and that is of local governments [Applause] today women serve our country in the army Navy and \n",
            "Summarized text\n",
            " The Vedas are one of the world's all the scriptures they are a great treasure of humanity composed thousands of years ago back then back then women Sages compose many verses in these Vedas and today in Modern India women are leading us to a better future . India's vision is not just of development which benefits women it is enough women late development where women lead the Journey of progress [Applause]\n",
            "input text \n",
            "Air Force India also has the highest highest percentage of women airline pilots in the world and they have also put us on Mars by Leading our Mars mission I believe that investigating in a girl child lifts up the entire family empowering women transform the nation Mr Speaker India is an ancient Nation with a youthful population India is known for its traditions but the younger generation is also making Hub of Technology be it creative reals on Instagram or Real Time payments coding or Quantum computing machine learning or mobile apps fintech or data science the Youth of India are a great example of how a society can embraced latest technology in India technology is not about innovation but also about inclusion today digital performance are empowering the rights and dignity of people while protecting protecting privacy in the last nine years or a billion people got a unique digital biometric identity connected with that bank accounts and mobile phones this digital public infrastructure \n",
            "Summarized text\n",
            " India is an ancient Nation with a youthful population India is known for its traditions but the younger generation is also making Hub of Technology . Air Force India also has the highest highest percentage of women airline pilots in the world and they have also put us on Mars by Leading our Mars mission I believe that investigating in a girl child lifts up the entire family .\n",
            "input text \n",
            "helps us reach citizens within seconds with financial assistance 850 million people receive direct benefit Financial transfers into their accounts three times a year over a hundred million Farmers received assistance in their bank accounts at the click of a button the value of such transfer has crossed 320 billion dollars and we have saved over 25 billion dollars in the process if you visit India you will see everyone is using phones for payments including Street vendors last year out of every 100 real-time digital payments in the world 46 happened in India nearly 400 000 miles of political fiber optical fiber optical fiber cables and cheap data have assured in a revolution of opportunities farmers Jen breather updates the elderly get Social Security payments students access scholarships doctors delivers telemedicine fishermen check fishing grounds and small businesses get launched with just a tap on their phones Mr Speaker a spirit of democracy inclusion and sustainability defines us \n",
            "Summarized text\n",
            " The value of such transfer has crossed 320 billion dollars and we have saved over 25 billion dollars in the process if you visit India you will see everyone is using phones for payments including Street vendors last year out of every 100 real-time digital payments in the world 46 happened in India last year .\n",
            "input text \n",
            "it also shapes our Outlook to the world India grows while being responsible about our planet We Believe this means the Earth is our mother and we are her children Indian culture deeply respects the environment and our planets foreign the fastest growing economy we grew our solar capacity by two thousand three hundred percent yes you have had rights 2 300 percent [Applause] we became the only only G20 country to meet its Parish commitment we made [Applause] Renewables account for over 40 percent of our energy sources nine years ahead of the target of 2030. but we did not stop there at the Glasgow Sameer I propose mission life lifestyle for environment this is a way to make sustainable sustainability are true people's moment to live it to be the job of governments alone by being mindful in making choices every individual can make a positive impact making sustainability a mass moment behave the world rich the nail zero Target faster our vision is Pro Planet progress our vision is pro-plan\n",
            "Summarized text\n",
            " India grew its solar capacity by two thousand three hundred percent [Applause] Renewables account for over 40 percent of our energy sources nine years ahead of the target of 2030 . Sameer I propose mission life lifestyle for environment for environment this is a way to make sustainable sustainability are true people's moment to live .\n",
            "input text \n",
            "et prosperity our vision is Pro planet people Mr Speaker we live by the motto of come or the ball is one family our engagement with the world is for everyone's benefits the one son one word one grade seek to join us all is connecting the world with clean energy thank you one Earth one Health is a vision for Global action to bring Quality Health Care to everyone including animals and plants The Same Spirit is also seen in the thief when we chair the G20 one Earth one family one future we advance the spirit of unity through yoga as well just yesterday the whole world came together to celebrate the International Day of yoga just last week All Nations join our proposal at the UN to build a memorial wall to honor the peacekeepers and this year [Applause] the whole world is celebrating the international year of millets to promote sustainable agriculture and nutrition alike during covet we deliver vaccines and medicines to over a hundred and fifty countries we reach out to others doing disast\n",
            "Summarized text\n",
            " One Earth one Health is a vision for Global action to bring Quality Health Care to everyone including animals and plants . The Same Spirit is also seen in the thief when we chair the G20 one Earth one family one future . The whole world is celebrating the international year of millets to promote sustainable agriculture and nutrition alike .\n",
            "input text \n",
            "er at first respondents as we do for our own we share our modest resources with those who need them the most we build capabilities not dependencies [Applause] Mr Speaker when I speak about India's approach to the world the United States occupied a special place I know our our relations are of great importance to all of you every member of this Congress has a deep interest in it when defense and Aerospace in India grow Industries in state of Washington Arizona Georgia Alabama [Music] South Carolina and Pennsylvania thrive when American companies grow their their research and development centers in India thrive when Indians fly more a single order of for aircrafts creates more than a million jobs in 44 states in America when an American phone makers invest in India it creates an entire ecosystem of jobs and opportunities in both countries when India and U.S work together on semiconductors and critical minerals it helped the world in making Supply chains more diverse resilient and reliabl\n",
            "Summarized text\n",
            " When defense and Aerospace in India grow Industries in state of Washington Arizona Georgia Alabama . South Carolina and Pennsylvania thrive when American companies grow their their research and development centers in India thrive when Indians fly more a single order of for aircrafts creates more than a million jobs in 44 states in America .\n",
            "input text \n",
            "e indeed Mr Speaker Weavers strangers in defense cooperation at the turn of century now the United States has become one of our most important defense partner thank you thank you [Music] today India and the US are working together in space and in the seas in science and in semiconductors in startups and sustainability in fact and in trade in farming and Finance in art and artificial intelligence in energy and education in healthcare and humanitarian efforts again go on and go on but to summarize why I would say the scope of our cooperation is endless the potential of our synergies is Limitless and the chemistry in our relations Is effortless in all this Indian Americans have played a big role they are brilliant in every field not just in spelling bee [Applause] with their hearts and Minds talent and skills and the love for America and India they have connected us they have unlocked doors they have shown the potential of our partnership Mr Speaker distinguished members every Indian Prim\n",
            "Summarized text\n",
            " The scope of our cooperation is endless the potential of our synergies is Limitless and the chemistry in our relations Is effortless in all this Indian Americans have played a big role they are brilliant in every field not just in spelling bee [Applause] with their hearts and Minds talent and skills and the love for America and India they have connected us .\n",
            "input text \n",
            "e Minister and American president of the past had taken our relationship further but Our Generation has to honor of taking it a greater Heights I agree with President Baden that this is a defining Partnership of this country because it served a larger purpose democracy demography and Destiny give us the purpose one consequences of globalization has been to cover over concentration of Supply chains we will work together to diversify decentralized and democratize Supply chains [Applause] technology will determine the security prosperity and Leadership in the 21st century that is why our two countries established a new Initiative for critical and emerging Technologies our knowledge partnership will serve Humanity and seek Solutions to the global challenges of climate change hunger and health Mr Speaker and distinguished members the last few words have seen deeply disruptive developments with the Ukraine conflict War has written to Europe it is causing great pain in the region sentine invo\n",
            "Summarized text\n",
            " e Minister and American president of the past had taken our relationship further but Our Generation has to honor of taking it a greater Heights I agree with President Baden that this is a defining Partnership of this country because it served a larger purpose democracy demography and Destiny give us the purpose . Technology will determine the security prosperity and Leadership in the 21st century that is why our two countries established a new Initiative for critical and emerging Technologies .\n",
            "input text \n",
            "lves major powers the outcomes are severe countries of the global South have been particularly affected the global order is based on the respect for the principle of the U.N Charter peaceful resolution of disputes and respect for sovereignty and territorial integrity thank you and I'll say directly and publicly this is not an era of War [Applause] but it is one of dialogue and diplomacy and we all must do what we can to stop the Bloodshed and human suffering [Applause] Mr Speaker the dark clouds of covers and confrontation are casting their shadow in the indo-pacific the stability of the region has become one of the central concerns of our partnership we share a vision of a free open and inclusive indo-pacific defined by international law free from domination an anchor in asean centrality [Applause] religion where all nations small and large are free and fearless in their choices where progress is not suffocated by an impossible burdens of date where connectivity not Leverage for strat\n",
            "Summarized text\n",
            " This is not an era of War [Applause] but it is one of dialogue and diplomacy and we all must do what we can to stop the Bloodshed and human suffering . The stability of the region has become one of the central concerns of our partnership . We share a vision of a free open and inclusive indo-pacific defined by international law free from domination .\n",
            "input text \n",
            "egic purposes where all nations are lifted by the high tide of shared prosperity our vision does not seek to contract for exclude but to build a Cooperative region of peace and prosperity we work through Regional institutions and with our partners from within the region and Beyond of this poor head immersed as a major force of good for the region Mr Speaker more than two decades after 9 11. and more than a decade after 26th 11 in Mumbai radicalism and terrorism still remain a pressing danger for the whole world [Applause] these ideologies keep taking new identity and forms but then intentions are the same terrorism is an enemy of humanity and that can be no ifs and buts in dealing with it we must overcome all such forces sponsoring and exporting Terror [Applause] Mr Speaker 19's biggest impact about the human laws and suffering it cause I wish to remember congressman Ron writes and the staff members who lost their lives to kovil as we emerge out of the pandemic we must give a shape to \n",
            "Summarized text\n",
            " Mr Speaker 19's biggest impact about the human laws and suffering it cause I wish to remember congressman Ron writes and the staff members who lost their lives to kovil as we emerge out of the pandemic we must give a shape to  the shape to a Cooperative region of peace and prosperity .\n",
            "input text \n",
            "a new world order consideration care and concern are the need of the hour giving advice to the global South is the way forward that is why I firmly believe that the African Union be given full membership of G20 thank you thank you we must revive multilateralism and reform multilateral institutions with better resources and representation that applies to all our Global institutions of governance especially the United Nations when the ball had changed our institutions too must change or risk getting replaced by a world of rivalries without rules in working for a world New World Order based on international law our two countries will be at the Forefront as partners Mr Speaker and distinguished members today we stand at the new dawn in our relationship that will not only shape the destiny of our two Nations but also that of the world at the Young American fight government has expressed when they comes we stepped out of The Shield a flame and un afraid the new dawn blooms as we preheat for \n",
            "Summarized text\n",
            " We must revive multilateralism and reform multilateral institutions with better resources and representation that applies to all our Global institutions of governance especially the U.N. We must change or risk getting replaced by a world of rivalries without rules in working for a world New World Order based on international law our two countries will be at the Forefront as partners .\n",
            "input text \n",
            "there is always lights if only we are brave enough to see it right our trusted partnership our trusted partnership is like the sun in this new dawn that we spread light all around [Applause] I am reminded of a poem that I once wrought Osman foreign [Applause] foreign if I were to say it in English it would be Rising its head in the skies piercing through the dense crowds with the promise of light the sun has just risen armed with a deep resolve overcoming all the odds to dispel the forces of Darkness the sun had just reason Mr Speaker and distinguished members we come from different circumstances and history but we are united by a common vision and by a common destiny when our partnership progress economic resilience increases Innovation grows science furnishes knowledge advances Humanity benefits our seas and skies are safer democracy will shine brighter and the world will be better place that is the mission of our partnership that is our calling for this century Mr Speaker and distin\n"
          ]
        },
        {
          "output_type": "stream",
          "name": "stderr",
          "text": [
            "Your max_length is set to 142, but your input_length is only 133. Since this is a summarization task, where outputs shorter than the input are typically wanted, you might consider decreasing max_length manually, e.g. summarizer('...', max_length=66)\n"
          ]
        },
        {
          "output_type": "stream",
          "name": "stdout",
          "text": [
            "Summarized text\n",
            " There is always lights if only we are brave enough to see it right our trusted partnership is like the sun in this new dawn that we spread light all around [Applause] I am reminded of a poem that I once wrought Osman foreign if I were to say it in English it would be Rising its head in the skies piercing through the dense crowds with the promise of light the sun has just risen armed with a deep resolve overcoming all the odds .\n",
            "input text \n",
            "guished members even by the highest standards of our partnership this visit is one of the great positive transformation together we shall demonstrate the democracy is better and democracies deliver thank you [Applause] I count on your continued support to the India U.S partnership when I was here in 2016 I said that our relationship relationship is Prime for a momentous future that future is today thank you thank you once again Mr Speaker Madam vice president and the distinguished members of this honor God Bless America long live India U.S friendship thank you [Applause] [Music] [Music] [Applause] all right only Magic [Applause] foreign\n",
            "Summarized text\n",
            " India U.S. guished members even by the highest standards of our partnership this visit is one of the great positive transformation together we shall demonstrate the democracy is better and democracies deliver thank you [Applause] I count on your continued support to the India-U.S partnership when I was here in 2016 I said that our relationship relationship is Prime for a momentous future .\n"
          ]
        }
      ]
    },
    {
      "cell_type": "code",
      "source": [
        "len(str(summarized_text))"
      ],
      "metadata": {
        "colab": {
          "base_uri": "https://localhost:8080/"
        },
        "id": "pn2mn2aaBC54",
        "outputId": "29b76988-8b2d-4606-8f36-9bf6e01acf1b"
      },
      "execution_count": null,
      "outputs": [
        {
          "output_type": "execute_result",
          "data": {
            "text/plain": [
              "7155"
            ]
          },
          "metadata": {},
          "execution_count": 36
        }
      ]
    },
    {
      "cell_type": "code",
      "source": [
        "str(summarized_text)"
      ],
      "metadata": {
        "colab": {
          "base_uri": "https://localhost:8080/",
          "height": 157
        },
        "id": "L20ItnvqBmCB",
        "outputId": "35d485d2-9c9c-4ee8-c40d-c24021a5c10b"
      },
      "execution_count": null,
      "outputs": [
        {
          "output_type": "execute_result",
          "data": {
            "text/plain": [
              "'[\\' Mr Speaker Madam vice president presented to you his Excellency narenda Modi the prime minister of the Republic of India thank you [Applause] Mr Speaker . Mr Speaker: \"It is always a great honor to address the United States Congress twice. I extend my deepest gratitude on behalf of the 1.4 billion people of India\"\\', \\' I said that the hesitations of History were behind us now when our era it is a cross as is at a Crossroads I am here to speak about our calling for this century [Applause] A lot has changed since I came here seven summers ago but a lord has remained the same like our commitment to deepen the friendship between India and the United States .\\', \\' I am delighted to see you come together today to celebrate the bond between worlds two great democracies India and the United States [Applause] I am happy to help out. being a city and of a vibrant democracy myself I can admit one thing Mr Speaker you have a tough job. I can relate to the battle suppression persuasion and policy .\\', \\' Samosa caucus in now the flavor of the house I hope it grows and brings the full diversity of Indian Cuisine here [Applause] over two centuries we have inspired each other through the lives of great Americans and Indians be pay tribute to Mahatma Gandhi and Martin Luther King Jr .\\', \\' Mr Speaker last year India celebrated 75 years of its independence . India has over 2500 political parties and about 20 different parties govern various states of India . Together we shall give a better future to the world and a better world to the Future [Applause] Mr Speaker .\\', \\' India is home to all faiths in the world and we celebrate all of them [Applause] in India diversity is a natural way of life today the world wants to know more and more about India I see that curiosity in this house too we were honored to receive over 100 members of the U.S. Congress in India over the last decade .\\', \" India sends Benchmark in growth it will inspire many other countries to do the same our vision is it means together for everyone\\'s growth with everyone\\'s trusts and everyone\\'s efforts . We are focusing on infrastructure development we have given nearly 40 million homes to provide shelter to over 150 million people that is nearly six times the population of Australia .\", \" The Vedas are one of the world\\'s all the scriptures they are a great treasure of humanity composed thousands of years ago back then back then women Sages compose many verses in these Vedas and today in Modern India women are leading us to a better future . India\\'s vision is not just of development which benefits women it is enough women late development where women lead the Journey of progress [Applause]\", \\' India is an ancient Nation with a youthful population India is known for its traditions but the younger generation is also making Hub of Technology . Air Force India also has the highest highest percentage of women airline pilots in the world and they have also put us on Mars by Leading our Mars mission I believe that investigating in a girl child lifts up the entire family .\\', \\' The value of such transfer has crossed 320 billion dollars and we have saved over 25 billion dollars in the process if you visit India you will see everyone is using phones for payments including Street vendors last year out of every 100 real-time digital payments in the world 46 happened in India last year .\\', \" India grew its solar capacity by two thousand three hundred percent [Applause] Renewables account for over 40 percent of our energy sources nine years ahead of the target of 2030 . Sameer I propose mission life lifestyle for environment for environment this is a way to make sustainable sustainability are true people\\'s moment to live .\", \\' One Earth one Health is a vision for Global action to bring Quality Health Care to everyone including animals and plants . The Same Spirit is also seen in the thief when we chair the G20 one Earth one family one future . The whole world is celebrating the international year of millets to promote sustainable agriculture and nutrition alike .\\', \\' When defense and Aerospace in India grow Industries in state of Washington Arizona Georgia Alabama . South Carolina and Pennsylvania thrive when American companies grow their their research and development centers in India thrive when Indians fly more a single order of for aircrafts creates more than a million jobs in 44 states in America .\\', \\' The scope of our cooperation is endless the potential of our synergies is Limitless and the chemistry in our relations Is effortless in all this Indian Americans have played a big role they are brilliant in every field not just in spelling bee [Applause] with their hearts and Minds talent and skills and the love for America and India they have connected us .\\', \\' e Minister and American president of the past had taken our relationship further but Our Generation has to honor of taking it a greater Heights I agree with President Baden that this is a defining Partnership of this country because it served a larger purpose democracy demography and Destiny give us the purpose . Technology will determine the security prosperity and Leadership in the 21st century that is why our two countries established a new Initiative for critical and emerging Technologies .\\', \\' This is not an era of War [Applause] but it is one of dialogue and diplomacy and we all must do what we can to stop the Bloodshed and human suffering . The stability of the region has become one of the central concerns of our partnership . We share a vision of a free open and inclusive indo-pacific defined by international law free from domination .\\', \" Mr Speaker 19\\'s biggest impact about the human laws and suffering it cause I wish to remember congressman Ron writes and the staff members who lost their lives to kovil as we emerge out of the pandemic we must give a shape to  the shape to a Cooperative region of peace and prosperity .\", \\' We must revive multilateralism and reform multilateral institutions with better resources and representation that applies to all our Global institutions of governance especially the U.N. We must change or risk getting replaced by a world of rivalries without rules in working for a world New World Order based on international law our two countries will be at the Forefront as partners .\\', \\' There is always lights if only we are brave enough to see it right our trusted partnership is like the sun in this new dawn that we spread light all around [Applause] I am reminded of a poem that I once wrought Osman foreign if I were to say it in English it would be Rising its head in the skies piercing through the dense crowds with the promise of light the sun has just risen armed with a deep resolve overcoming all the odds .\\', \\' India U.S. guished members even by the highest standards of our partnership this visit is one of the great positive transformation together we shall demonstrate the democracy is better and democracies deliver thank you [Applause] I count on your continued support to the India-U.S partnership when I was here in 2016 I said that our relationship relationship is Prime for a momentous future .\\']'"
            ],
            "application/vnd.google.colaboratory.intrinsic+json": {
              "type": "string"
            }
          },
          "metadata": {},
          "execution_count": 37
        }
      ]
    },
    {
      "cell_type": "code",
      "source": [],
      "metadata": {
        "id": "Pz4MyAyQBptf"
      },
      "execution_count": null,
      "outputs": []
    }
  ]
}